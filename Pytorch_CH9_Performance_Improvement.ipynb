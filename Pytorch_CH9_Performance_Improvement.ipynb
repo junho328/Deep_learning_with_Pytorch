{
  "nbformat": 4,
  "nbformat_minor": 0,
  "metadata": {
    "colab": {
      "provenance": [],
      "collapsed_sections": [],
      "authorship_tag": "ABX9TyOLOvuQ08N+ltrpTnGRh0zu",
      "include_colab_link": true
    },
    "kernelspec": {
      "name": "python3",
      "display_name": "Python 3"
    },
    "language_info": {
      "name": "python"
    },
    "accelerator": "GPU",
    "gpuClass": "standard",
    "widgets": {
      "application/vnd.jupyter.widget-state+json": {
        "a2a477f167a9416ca79baa11c7a556f7": {
          "model_module": "@jupyter-widgets/controls",
          "model_name": "HBoxModel",
          "model_module_version": "1.5.0",
          "state": {
            "_dom_classes": [],
            "_model_module": "@jupyter-widgets/controls",
            "_model_module_version": "1.5.0",
            "_model_name": "HBoxModel",
            "_view_count": null,
            "_view_module": "@jupyter-widgets/controls",
            "_view_module_version": "1.5.0",
            "_view_name": "HBoxView",
            "box_style": "",
            "children": [
              "IPY_MODEL_9abc117f25ce41ebbbf12d5f5b32912c",
              "IPY_MODEL_768993d099db449e8325eeae7596ea82",
              "IPY_MODEL_206c45dc66884980a07c73b227672668"
            ],
            "layout": "IPY_MODEL_89471261fc904eaa8503da7db12f3621"
          }
        },
        "9abc117f25ce41ebbbf12d5f5b32912c": {
          "model_module": "@jupyter-widgets/controls",
          "model_name": "HTMLModel",
          "model_module_version": "1.5.0",
          "state": {
            "_dom_classes": [],
            "_model_module": "@jupyter-widgets/controls",
            "_model_module_version": "1.5.0",
            "_model_name": "HTMLModel",
            "_view_count": null,
            "_view_module": "@jupyter-widgets/controls",
            "_view_module_version": "1.5.0",
            "_view_name": "HTMLView",
            "description": "",
            "description_tooltip": null,
            "layout": "IPY_MODEL_bae79602696c4259a5b7c5127dc3feb6",
            "placeholder": "​",
            "style": "IPY_MODEL_e95e85d922704208bdb57ae08ab4eca8",
            "value": "100%"
          }
        },
        "768993d099db449e8325eeae7596ea82": {
          "model_module": "@jupyter-widgets/controls",
          "model_name": "FloatProgressModel",
          "model_module_version": "1.5.0",
          "state": {
            "_dom_classes": [],
            "_model_module": "@jupyter-widgets/controls",
            "_model_module_version": "1.5.0",
            "_model_name": "FloatProgressModel",
            "_view_count": null,
            "_view_module": "@jupyter-widgets/controls",
            "_view_module_version": "1.5.0",
            "_view_name": "ProgressView",
            "bar_style": "success",
            "description": "",
            "description_tooltip": null,
            "layout": "IPY_MODEL_4907b739ec34465b97475449ad8cd86a",
            "max": 170498071,
            "min": 0,
            "orientation": "horizontal",
            "style": "IPY_MODEL_8c9dbaf2df32467fa5400c696f3351f1",
            "value": 170498071
          }
        },
        "206c45dc66884980a07c73b227672668": {
          "model_module": "@jupyter-widgets/controls",
          "model_name": "HTMLModel",
          "model_module_version": "1.5.0",
          "state": {
            "_dom_classes": [],
            "_model_module": "@jupyter-widgets/controls",
            "_model_module_version": "1.5.0",
            "_model_name": "HTMLModel",
            "_view_count": null,
            "_view_module": "@jupyter-widgets/controls",
            "_view_module_version": "1.5.0",
            "_view_name": "HTMLView",
            "description": "",
            "description_tooltip": null,
            "layout": "IPY_MODEL_20be8d867e2b4572be169c7a6519c451",
            "placeholder": "​",
            "style": "IPY_MODEL_86f8437c7e234910ae14eeb12f01f715",
            "value": " 170498071/170498071 [00:15&lt;00:00, 13075894.99it/s]"
          }
        },
        "89471261fc904eaa8503da7db12f3621": {
          "model_module": "@jupyter-widgets/base",
          "model_name": "LayoutModel",
          "model_module_version": "1.2.0",
          "state": {
            "_model_module": "@jupyter-widgets/base",
            "_model_module_version": "1.2.0",
            "_model_name": "LayoutModel",
            "_view_count": null,
            "_view_module": "@jupyter-widgets/base",
            "_view_module_version": "1.2.0",
            "_view_name": "LayoutView",
            "align_content": null,
            "align_items": null,
            "align_self": null,
            "border": null,
            "bottom": null,
            "display": null,
            "flex": null,
            "flex_flow": null,
            "grid_area": null,
            "grid_auto_columns": null,
            "grid_auto_flow": null,
            "grid_auto_rows": null,
            "grid_column": null,
            "grid_gap": null,
            "grid_row": null,
            "grid_template_areas": null,
            "grid_template_columns": null,
            "grid_template_rows": null,
            "height": null,
            "justify_content": null,
            "justify_items": null,
            "left": null,
            "margin": null,
            "max_height": null,
            "max_width": null,
            "min_height": null,
            "min_width": null,
            "object_fit": null,
            "object_position": null,
            "order": null,
            "overflow": null,
            "overflow_x": null,
            "overflow_y": null,
            "padding": null,
            "right": null,
            "top": null,
            "visibility": null,
            "width": null
          }
        },
        "bae79602696c4259a5b7c5127dc3feb6": {
          "model_module": "@jupyter-widgets/base",
          "model_name": "LayoutModel",
          "model_module_version": "1.2.0",
          "state": {
            "_model_module": "@jupyter-widgets/base",
            "_model_module_version": "1.2.0",
            "_model_name": "LayoutModel",
            "_view_count": null,
            "_view_module": "@jupyter-widgets/base",
            "_view_module_version": "1.2.0",
            "_view_name": "LayoutView",
            "align_content": null,
            "align_items": null,
            "align_self": null,
            "border": null,
            "bottom": null,
            "display": null,
            "flex": null,
            "flex_flow": null,
            "grid_area": null,
            "grid_auto_columns": null,
            "grid_auto_flow": null,
            "grid_auto_rows": null,
            "grid_column": null,
            "grid_gap": null,
            "grid_row": null,
            "grid_template_areas": null,
            "grid_template_columns": null,
            "grid_template_rows": null,
            "height": null,
            "justify_content": null,
            "justify_items": null,
            "left": null,
            "margin": null,
            "max_height": null,
            "max_width": null,
            "min_height": null,
            "min_width": null,
            "object_fit": null,
            "object_position": null,
            "order": null,
            "overflow": null,
            "overflow_x": null,
            "overflow_y": null,
            "padding": null,
            "right": null,
            "top": null,
            "visibility": null,
            "width": null
          }
        },
        "e95e85d922704208bdb57ae08ab4eca8": {
          "model_module": "@jupyter-widgets/controls",
          "model_name": "DescriptionStyleModel",
          "model_module_version": "1.5.0",
          "state": {
            "_model_module": "@jupyter-widgets/controls",
            "_model_module_version": "1.5.0",
            "_model_name": "DescriptionStyleModel",
            "_view_count": null,
            "_view_module": "@jupyter-widgets/base",
            "_view_module_version": "1.2.0",
            "_view_name": "StyleView",
            "description_width": ""
          }
        },
        "4907b739ec34465b97475449ad8cd86a": {
          "model_module": "@jupyter-widgets/base",
          "model_name": "LayoutModel",
          "model_module_version": "1.2.0",
          "state": {
            "_model_module": "@jupyter-widgets/base",
            "_model_module_version": "1.2.0",
            "_model_name": "LayoutModel",
            "_view_count": null,
            "_view_module": "@jupyter-widgets/base",
            "_view_module_version": "1.2.0",
            "_view_name": "LayoutView",
            "align_content": null,
            "align_items": null,
            "align_self": null,
            "border": null,
            "bottom": null,
            "display": null,
            "flex": null,
            "flex_flow": null,
            "grid_area": null,
            "grid_auto_columns": null,
            "grid_auto_flow": null,
            "grid_auto_rows": null,
            "grid_column": null,
            "grid_gap": null,
            "grid_row": null,
            "grid_template_areas": null,
            "grid_template_columns": null,
            "grid_template_rows": null,
            "height": null,
            "justify_content": null,
            "justify_items": null,
            "left": null,
            "margin": null,
            "max_height": null,
            "max_width": null,
            "min_height": null,
            "min_width": null,
            "object_fit": null,
            "object_position": null,
            "order": null,
            "overflow": null,
            "overflow_x": null,
            "overflow_y": null,
            "padding": null,
            "right": null,
            "top": null,
            "visibility": null,
            "width": null
          }
        },
        "8c9dbaf2df32467fa5400c696f3351f1": {
          "model_module": "@jupyter-widgets/controls",
          "model_name": "ProgressStyleModel",
          "model_module_version": "1.5.0",
          "state": {
            "_model_module": "@jupyter-widgets/controls",
            "_model_module_version": "1.5.0",
            "_model_name": "ProgressStyleModel",
            "_view_count": null,
            "_view_module": "@jupyter-widgets/base",
            "_view_module_version": "1.2.0",
            "_view_name": "StyleView",
            "bar_color": null,
            "description_width": ""
          }
        },
        "20be8d867e2b4572be169c7a6519c451": {
          "model_module": "@jupyter-widgets/base",
          "model_name": "LayoutModel",
          "model_module_version": "1.2.0",
          "state": {
            "_model_module": "@jupyter-widgets/base",
            "_model_module_version": "1.2.0",
            "_model_name": "LayoutModel",
            "_view_count": null,
            "_view_module": "@jupyter-widgets/base",
            "_view_module_version": "1.2.0",
            "_view_name": "LayoutView",
            "align_content": null,
            "align_items": null,
            "align_self": null,
            "border": null,
            "bottom": null,
            "display": null,
            "flex": null,
            "flex_flow": null,
            "grid_area": null,
            "grid_auto_columns": null,
            "grid_auto_flow": null,
            "grid_auto_rows": null,
            "grid_column": null,
            "grid_gap": null,
            "grid_row": null,
            "grid_template_areas": null,
            "grid_template_columns": null,
            "grid_template_rows": null,
            "height": null,
            "justify_content": null,
            "justify_items": null,
            "left": null,
            "margin": null,
            "max_height": null,
            "max_width": null,
            "min_height": null,
            "min_width": null,
            "object_fit": null,
            "object_position": null,
            "order": null,
            "overflow": null,
            "overflow_x": null,
            "overflow_y": null,
            "padding": null,
            "right": null,
            "top": null,
            "visibility": null,
            "width": null
          }
        },
        "86f8437c7e234910ae14eeb12f01f715": {
          "model_module": "@jupyter-widgets/controls",
          "model_name": "DescriptionStyleModel",
          "model_module_version": "1.5.0",
          "state": {
            "_model_module": "@jupyter-widgets/controls",
            "_model_module_version": "1.5.0",
            "_model_name": "DescriptionStyleModel",
            "_view_count": null,
            "_view_module": "@jupyter-widgets/base",
            "_view_module_version": "1.2.0",
            "_view_name": "StyleView",
            "description_width": ""
          }
        },
        "411619d3d1ae4a3e825e4df59e32447f": {
          "model_module": "@jupyter-widgets/controls",
          "model_name": "HBoxModel",
          "model_module_version": "1.5.0",
          "state": {
            "_dom_classes": [],
            "_model_module": "@jupyter-widgets/controls",
            "_model_module_version": "1.5.0",
            "_model_name": "HBoxModel",
            "_view_count": null,
            "_view_module": "@jupyter-widgets/controls",
            "_view_module_version": "1.5.0",
            "_view_name": "HBoxView",
            "box_style": "",
            "children": [
              "IPY_MODEL_ee96fda232e14c108e4598f2421c380b",
              "IPY_MODEL_cad3ed00d2944eb9807a945afb731f15",
              "IPY_MODEL_3c5881506c2843868439b42f6b1c15aa"
            ],
            "layout": "IPY_MODEL_e74a69eb061443ffbb69c25956a74e1f"
          }
        },
        "ee96fda232e14c108e4598f2421c380b": {
          "model_module": "@jupyter-widgets/controls",
          "model_name": "HTMLModel",
          "model_module_version": "1.5.0",
          "state": {
            "_dom_classes": [],
            "_model_module": "@jupyter-widgets/controls",
            "_model_module_version": "1.5.0",
            "_model_name": "HTMLModel",
            "_view_count": null,
            "_view_module": "@jupyter-widgets/controls",
            "_view_module_version": "1.5.0",
            "_view_name": "HTMLView",
            "description": "",
            "description_tooltip": null,
            "layout": "IPY_MODEL_523260cc3ea44e14941b87845a38a88c",
            "placeholder": "​",
            "style": "IPY_MODEL_49ba72ad1feb4f29aea3a2a55e39cddb",
            "value": "100%"
          }
        },
        "cad3ed00d2944eb9807a945afb731f15": {
          "model_module": "@jupyter-widgets/controls",
          "model_name": "FloatProgressModel",
          "model_module_version": "1.5.0",
          "state": {
            "_dom_classes": [],
            "_model_module": "@jupyter-widgets/controls",
            "_model_module_version": "1.5.0",
            "_model_name": "FloatProgressModel",
            "_view_count": null,
            "_view_module": "@jupyter-widgets/controls",
            "_view_module_version": "1.5.0",
            "_view_name": "ProgressView",
            "bar_style": "success",
            "description": "",
            "description_tooltip": null,
            "layout": "IPY_MODEL_1481b1bf7c4d4dfdbd375c15c0250eb8",
            "max": 46830571,
            "min": 0,
            "orientation": "horizontal",
            "style": "IPY_MODEL_0acbd7ed9d0f44df927a5e3d1f4603a4",
            "value": 46830571
          }
        },
        "3c5881506c2843868439b42f6b1c15aa": {
          "model_module": "@jupyter-widgets/controls",
          "model_name": "HTMLModel",
          "model_module_version": "1.5.0",
          "state": {
            "_dom_classes": [],
            "_model_module": "@jupyter-widgets/controls",
            "_model_module_version": "1.5.0",
            "_model_name": "HTMLModel",
            "_view_count": null,
            "_view_module": "@jupyter-widgets/controls",
            "_view_module_version": "1.5.0",
            "_view_name": "HTMLView",
            "description": "",
            "description_tooltip": null,
            "layout": "IPY_MODEL_a2d462c1af7a46c386a0c6345b03ea4d",
            "placeholder": "​",
            "style": "IPY_MODEL_05b404f467fa4302ad818e94f38b8366",
            "value": " 44.7M/44.7M [00:00&lt;00:00, 99.6MB/s]"
          }
        },
        "e74a69eb061443ffbb69c25956a74e1f": {
          "model_module": "@jupyter-widgets/base",
          "model_name": "LayoutModel",
          "model_module_version": "1.2.0",
          "state": {
            "_model_module": "@jupyter-widgets/base",
            "_model_module_version": "1.2.0",
            "_model_name": "LayoutModel",
            "_view_count": null,
            "_view_module": "@jupyter-widgets/base",
            "_view_module_version": "1.2.0",
            "_view_name": "LayoutView",
            "align_content": null,
            "align_items": null,
            "align_self": null,
            "border": null,
            "bottom": null,
            "display": null,
            "flex": null,
            "flex_flow": null,
            "grid_area": null,
            "grid_auto_columns": null,
            "grid_auto_flow": null,
            "grid_auto_rows": null,
            "grid_column": null,
            "grid_gap": null,
            "grid_row": null,
            "grid_template_areas": null,
            "grid_template_columns": null,
            "grid_template_rows": null,
            "height": null,
            "justify_content": null,
            "justify_items": null,
            "left": null,
            "margin": null,
            "max_height": null,
            "max_width": null,
            "min_height": null,
            "min_width": null,
            "object_fit": null,
            "object_position": null,
            "order": null,
            "overflow": null,
            "overflow_x": null,
            "overflow_y": null,
            "padding": null,
            "right": null,
            "top": null,
            "visibility": null,
            "width": null
          }
        },
        "523260cc3ea44e14941b87845a38a88c": {
          "model_module": "@jupyter-widgets/base",
          "model_name": "LayoutModel",
          "model_module_version": "1.2.0",
          "state": {
            "_model_module": "@jupyter-widgets/base",
            "_model_module_version": "1.2.0",
            "_model_name": "LayoutModel",
            "_view_count": null,
            "_view_module": "@jupyter-widgets/base",
            "_view_module_version": "1.2.0",
            "_view_name": "LayoutView",
            "align_content": null,
            "align_items": null,
            "align_self": null,
            "border": null,
            "bottom": null,
            "display": null,
            "flex": null,
            "flex_flow": null,
            "grid_area": null,
            "grid_auto_columns": null,
            "grid_auto_flow": null,
            "grid_auto_rows": null,
            "grid_column": null,
            "grid_gap": null,
            "grid_row": null,
            "grid_template_areas": null,
            "grid_template_columns": null,
            "grid_template_rows": null,
            "height": null,
            "justify_content": null,
            "justify_items": null,
            "left": null,
            "margin": null,
            "max_height": null,
            "max_width": null,
            "min_height": null,
            "min_width": null,
            "object_fit": null,
            "object_position": null,
            "order": null,
            "overflow": null,
            "overflow_x": null,
            "overflow_y": null,
            "padding": null,
            "right": null,
            "top": null,
            "visibility": null,
            "width": null
          }
        },
        "49ba72ad1feb4f29aea3a2a55e39cddb": {
          "model_module": "@jupyter-widgets/controls",
          "model_name": "DescriptionStyleModel",
          "model_module_version": "1.5.0",
          "state": {
            "_model_module": "@jupyter-widgets/controls",
            "_model_module_version": "1.5.0",
            "_model_name": "DescriptionStyleModel",
            "_view_count": null,
            "_view_module": "@jupyter-widgets/base",
            "_view_module_version": "1.2.0",
            "_view_name": "StyleView",
            "description_width": ""
          }
        },
        "1481b1bf7c4d4dfdbd375c15c0250eb8": {
          "model_module": "@jupyter-widgets/base",
          "model_name": "LayoutModel",
          "model_module_version": "1.2.0",
          "state": {
            "_model_module": "@jupyter-widgets/base",
            "_model_module_version": "1.2.0",
            "_model_name": "LayoutModel",
            "_view_count": null,
            "_view_module": "@jupyter-widgets/base",
            "_view_module_version": "1.2.0",
            "_view_name": "LayoutView",
            "align_content": null,
            "align_items": null,
            "align_self": null,
            "border": null,
            "bottom": null,
            "display": null,
            "flex": null,
            "flex_flow": null,
            "grid_area": null,
            "grid_auto_columns": null,
            "grid_auto_flow": null,
            "grid_auto_rows": null,
            "grid_column": null,
            "grid_gap": null,
            "grid_row": null,
            "grid_template_areas": null,
            "grid_template_columns": null,
            "grid_template_rows": null,
            "height": null,
            "justify_content": null,
            "justify_items": null,
            "left": null,
            "margin": null,
            "max_height": null,
            "max_width": null,
            "min_height": null,
            "min_width": null,
            "object_fit": null,
            "object_position": null,
            "order": null,
            "overflow": null,
            "overflow_x": null,
            "overflow_y": null,
            "padding": null,
            "right": null,
            "top": null,
            "visibility": null,
            "width": null
          }
        },
        "0acbd7ed9d0f44df927a5e3d1f4603a4": {
          "model_module": "@jupyter-widgets/controls",
          "model_name": "ProgressStyleModel",
          "model_module_version": "1.5.0",
          "state": {
            "_model_module": "@jupyter-widgets/controls",
            "_model_module_version": "1.5.0",
            "_model_name": "ProgressStyleModel",
            "_view_count": null,
            "_view_module": "@jupyter-widgets/base",
            "_view_module_version": "1.2.0",
            "_view_name": "StyleView",
            "bar_color": null,
            "description_width": ""
          }
        },
        "a2d462c1af7a46c386a0c6345b03ea4d": {
          "model_module": "@jupyter-widgets/base",
          "model_name": "LayoutModel",
          "model_module_version": "1.2.0",
          "state": {
            "_model_module": "@jupyter-widgets/base",
            "_model_module_version": "1.2.0",
            "_model_name": "LayoutModel",
            "_view_count": null,
            "_view_module": "@jupyter-widgets/base",
            "_view_module_version": "1.2.0",
            "_view_name": "LayoutView",
            "align_content": null,
            "align_items": null,
            "align_self": null,
            "border": null,
            "bottom": null,
            "display": null,
            "flex": null,
            "flex_flow": null,
            "grid_area": null,
            "grid_auto_columns": null,
            "grid_auto_flow": null,
            "grid_auto_rows": null,
            "grid_column": null,
            "grid_gap": null,
            "grid_row": null,
            "grid_template_areas": null,
            "grid_template_columns": null,
            "grid_template_rows": null,
            "height": null,
            "justify_content": null,
            "justify_items": null,
            "left": null,
            "margin": null,
            "max_height": null,
            "max_width": null,
            "min_height": null,
            "min_width": null,
            "object_fit": null,
            "object_position": null,
            "order": null,
            "overflow": null,
            "overflow_x": null,
            "overflow_y": null,
            "padding": null,
            "right": null,
            "top": null,
            "visibility": null,
            "width": null
          }
        },
        "05b404f467fa4302ad818e94f38b8366": {
          "model_module": "@jupyter-widgets/controls",
          "model_name": "DescriptionStyleModel",
          "model_module_version": "1.5.0",
          "state": {
            "_model_module": "@jupyter-widgets/controls",
            "_model_module_version": "1.5.0",
            "_model_name": "DescriptionStyleModel",
            "_view_count": null,
            "_view_module": "@jupyter-widgets/base",
            "_view_module_version": "1.2.0",
            "_view_name": "StyleView",
            "description_width": ""
          }
        },
        "cbb5a670128a4a8c80f28ae1a63bf0af": {
          "model_module": "@jupyter-widgets/controls",
          "model_name": "HBoxModel",
          "model_module_version": "1.5.0",
          "state": {
            "_dom_classes": [],
            "_model_module": "@jupyter-widgets/controls",
            "_model_module_version": "1.5.0",
            "_model_name": "HBoxModel",
            "_view_count": null,
            "_view_module": "@jupyter-widgets/controls",
            "_view_module_version": "1.5.0",
            "_view_name": "HBoxView",
            "box_style": "",
            "children": [
              "IPY_MODEL_ae997c2723c64d559d3d23fcbc44d3b1",
              "IPY_MODEL_96e2357782bd4dcfb22ce5286e47ad6b",
              "IPY_MODEL_0ac4772bb6644db3b01de706805ade4f"
            ],
            "layout": "IPY_MODEL_33532aade06c430a9a402aa043fda6f1"
          }
        },
        "ae997c2723c64d559d3d23fcbc44d3b1": {
          "model_module": "@jupyter-widgets/controls",
          "model_name": "HTMLModel",
          "model_module_version": "1.5.0",
          "state": {
            "_dom_classes": [],
            "_model_module": "@jupyter-widgets/controls",
            "_model_module_version": "1.5.0",
            "_model_name": "HTMLModel",
            "_view_count": null,
            "_view_module": "@jupyter-widgets/controls",
            "_view_module_version": "1.5.0",
            "_view_name": "HTMLView",
            "description": "",
            "description_tooltip": null,
            "layout": "IPY_MODEL_f991c92380f94e608937093182ad6e6e",
            "placeholder": "​",
            "style": "IPY_MODEL_7cfc234965b54af4b91fd26992e65d5a",
            "value": "100%"
          }
        },
        "96e2357782bd4dcfb22ce5286e47ad6b": {
          "model_module": "@jupyter-widgets/controls",
          "model_name": "FloatProgressModel",
          "model_module_version": "1.5.0",
          "state": {
            "_dom_classes": [],
            "_model_module": "@jupyter-widgets/controls",
            "_model_module_version": "1.5.0",
            "_model_name": "FloatProgressModel",
            "_view_count": null,
            "_view_module": "@jupyter-widgets/controls",
            "_view_module_version": "1.5.0",
            "_view_name": "ProgressView",
            "bar_style": "success",
            "description": "",
            "description_tooltip": null,
            "layout": "IPY_MODEL_15c7f96063d64f98b32cd88b80302515",
            "max": 244408911,
            "min": 0,
            "orientation": "horizontal",
            "style": "IPY_MODEL_02479deb28724f51aaf3c1321d6b5570",
            "value": 244408911
          }
        },
        "0ac4772bb6644db3b01de706805ade4f": {
          "model_module": "@jupyter-widgets/controls",
          "model_name": "HTMLModel",
          "model_module_version": "1.5.0",
          "state": {
            "_dom_classes": [],
            "_model_module": "@jupyter-widgets/controls",
            "_model_module_version": "1.5.0",
            "_model_name": "HTMLModel",
            "_view_count": null,
            "_view_module": "@jupyter-widgets/controls",
            "_view_module_version": "1.5.0",
            "_view_name": "HTMLView",
            "description": "",
            "description_tooltip": null,
            "layout": "IPY_MODEL_1eaf259cd45046669600a7d1618a0c97",
            "placeholder": "​",
            "style": "IPY_MODEL_1a355a810a724b67b5cc75d13979ada6",
            "value": " 233M/233M [00:02&lt;00:00, 151MB/s]"
          }
        },
        "33532aade06c430a9a402aa043fda6f1": {
          "model_module": "@jupyter-widgets/base",
          "model_name": "LayoutModel",
          "model_module_version": "1.2.0",
          "state": {
            "_model_module": "@jupyter-widgets/base",
            "_model_module_version": "1.2.0",
            "_model_name": "LayoutModel",
            "_view_count": null,
            "_view_module": "@jupyter-widgets/base",
            "_view_module_version": "1.2.0",
            "_view_name": "LayoutView",
            "align_content": null,
            "align_items": null,
            "align_self": null,
            "border": null,
            "bottom": null,
            "display": null,
            "flex": null,
            "flex_flow": null,
            "grid_area": null,
            "grid_auto_columns": null,
            "grid_auto_flow": null,
            "grid_auto_rows": null,
            "grid_column": null,
            "grid_gap": null,
            "grid_row": null,
            "grid_template_areas": null,
            "grid_template_columns": null,
            "grid_template_rows": null,
            "height": null,
            "justify_content": null,
            "justify_items": null,
            "left": null,
            "margin": null,
            "max_height": null,
            "max_width": null,
            "min_height": null,
            "min_width": null,
            "object_fit": null,
            "object_position": null,
            "order": null,
            "overflow": null,
            "overflow_x": null,
            "overflow_y": null,
            "padding": null,
            "right": null,
            "top": null,
            "visibility": null,
            "width": null
          }
        },
        "f991c92380f94e608937093182ad6e6e": {
          "model_module": "@jupyter-widgets/base",
          "model_name": "LayoutModel",
          "model_module_version": "1.2.0",
          "state": {
            "_model_module": "@jupyter-widgets/base",
            "_model_module_version": "1.2.0",
            "_model_name": "LayoutModel",
            "_view_count": null,
            "_view_module": "@jupyter-widgets/base",
            "_view_module_version": "1.2.0",
            "_view_name": "LayoutView",
            "align_content": null,
            "align_items": null,
            "align_self": null,
            "border": null,
            "bottom": null,
            "display": null,
            "flex": null,
            "flex_flow": null,
            "grid_area": null,
            "grid_auto_columns": null,
            "grid_auto_flow": null,
            "grid_auto_rows": null,
            "grid_column": null,
            "grid_gap": null,
            "grid_row": null,
            "grid_template_areas": null,
            "grid_template_columns": null,
            "grid_template_rows": null,
            "height": null,
            "justify_content": null,
            "justify_items": null,
            "left": null,
            "margin": null,
            "max_height": null,
            "max_width": null,
            "min_height": null,
            "min_width": null,
            "object_fit": null,
            "object_position": null,
            "order": null,
            "overflow": null,
            "overflow_x": null,
            "overflow_y": null,
            "padding": null,
            "right": null,
            "top": null,
            "visibility": null,
            "width": null
          }
        },
        "7cfc234965b54af4b91fd26992e65d5a": {
          "model_module": "@jupyter-widgets/controls",
          "model_name": "DescriptionStyleModel",
          "model_module_version": "1.5.0",
          "state": {
            "_model_module": "@jupyter-widgets/controls",
            "_model_module_version": "1.5.0",
            "_model_name": "DescriptionStyleModel",
            "_view_count": null,
            "_view_module": "@jupyter-widgets/base",
            "_view_module_version": "1.2.0",
            "_view_name": "StyleView",
            "description_width": ""
          }
        },
        "15c7f96063d64f98b32cd88b80302515": {
          "model_module": "@jupyter-widgets/base",
          "model_name": "LayoutModel",
          "model_module_version": "1.2.0",
          "state": {
            "_model_module": "@jupyter-widgets/base",
            "_model_module_version": "1.2.0",
            "_model_name": "LayoutModel",
            "_view_count": null,
            "_view_module": "@jupyter-widgets/base",
            "_view_module_version": "1.2.0",
            "_view_name": "LayoutView",
            "align_content": null,
            "align_items": null,
            "align_self": null,
            "border": null,
            "bottom": null,
            "display": null,
            "flex": null,
            "flex_flow": null,
            "grid_area": null,
            "grid_auto_columns": null,
            "grid_auto_flow": null,
            "grid_auto_rows": null,
            "grid_column": null,
            "grid_gap": null,
            "grid_row": null,
            "grid_template_areas": null,
            "grid_template_columns": null,
            "grid_template_rows": null,
            "height": null,
            "justify_content": null,
            "justify_items": null,
            "left": null,
            "margin": null,
            "max_height": null,
            "max_width": null,
            "min_height": null,
            "min_width": null,
            "object_fit": null,
            "object_position": null,
            "order": null,
            "overflow": null,
            "overflow_x": null,
            "overflow_y": null,
            "padding": null,
            "right": null,
            "top": null,
            "visibility": null,
            "width": null
          }
        },
        "02479deb28724f51aaf3c1321d6b5570": {
          "model_module": "@jupyter-widgets/controls",
          "model_name": "ProgressStyleModel",
          "model_module_version": "1.5.0",
          "state": {
            "_model_module": "@jupyter-widgets/controls",
            "_model_module_version": "1.5.0",
            "_model_name": "ProgressStyleModel",
            "_view_count": null,
            "_view_module": "@jupyter-widgets/base",
            "_view_module_version": "1.2.0",
            "_view_name": "StyleView",
            "bar_color": null,
            "description_width": ""
          }
        },
        "1eaf259cd45046669600a7d1618a0c97": {
          "model_module": "@jupyter-widgets/base",
          "model_name": "LayoutModel",
          "model_module_version": "1.2.0",
          "state": {
            "_model_module": "@jupyter-widgets/base",
            "_model_module_version": "1.2.0",
            "_model_name": "LayoutModel",
            "_view_count": null,
            "_view_module": "@jupyter-widgets/base",
            "_view_module_version": "1.2.0",
            "_view_name": "LayoutView",
            "align_content": null,
            "align_items": null,
            "align_self": null,
            "border": null,
            "bottom": null,
            "display": null,
            "flex": null,
            "flex_flow": null,
            "grid_area": null,
            "grid_auto_columns": null,
            "grid_auto_flow": null,
            "grid_auto_rows": null,
            "grid_column": null,
            "grid_gap": null,
            "grid_row": null,
            "grid_template_areas": null,
            "grid_template_columns": null,
            "grid_template_rows": null,
            "height": null,
            "justify_content": null,
            "justify_items": null,
            "left": null,
            "margin": null,
            "max_height": null,
            "max_width": null,
            "min_height": null,
            "min_width": null,
            "object_fit": null,
            "object_position": null,
            "order": null,
            "overflow": null,
            "overflow_x": null,
            "overflow_y": null,
            "padding": null,
            "right": null,
            "top": null,
            "visibility": null,
            "width": null
          }
        },
        "1a355a810a724b67b5cc75d13979ada6": {
          "model_module": "@jupyter-widgets/controls",
          "model_name": "DescriptionStyleModel",
          "model_module_version": "1.5.0",
          "state": {
            "_model_module": "@jupyter-widgets/controls",
            "_model_module_version": "1.5.0",
            "_model_name": "DescriptionStyleModel",
            "_view_count": null,
            "_view_module": "@jupyter-widgets/base",
            "_view_module_version": "1.2.0",
            "_view_name": "StyleView",
            "description_width": ""
          }
        }
      }
    }
  },
  "cells": [
    {
      "cell_type": "markdown",
      "metadata": {
        "id": "view-in-github",
        "colab_type": "text"
      },
      "source": [
        "<a href=\"https://colab.research.google.com/github/junho328/Deep_learning_with_Pytorch/blob/main/Pytorch_CH9_Performance_Improvement.ipynb\" target=\"_parent\"><img src=\"https://colab.research.google.com/assets/colab-badge.svg\" alt=\"Open In Colab\"/></a>"
      ]
    },
    {
      "cell_type": "markdown",
      "source": [
        "#Regularization\n",
        "- Train Deep-learning model with preventing the Overfitting"
      ],
      "metadata": {
        "id": "RhuBRGMvXbWo"
      }
    },
    {
      "cell_type": "markdown",
      "source": [
        "###Data augmentation"
      ],
      "metadata": {
        "id": "KBCYzHqGXtUs"
      }
    },
    {
      "cell_type": "code",
      "source": [
        "import torchvision.transforms as tr\n",
        "import PIL\n",
        "\n",
        "transf = tr.Compose([tr.ToPILImage(),tr.RandomCrop(60),\n",
        "                     tr.ColorJitter(brightness = 0.1, contrast= 0.1, saturation = 0.1,hue = 0.1),\n",
        "                     tr.RandomHorizontalFlip(),tr.ToTensor()])"
      ],
      "metadata": {
        "id": "tSVYkGQxXho0"
      },
      "execution_count": null,
      "outputs": []
    },
    {
      "cell_type": "markdown",
      "source": [
        "###Early stopping\n",
        "- 손실 함수값이 작다고 반드시 정확도가 높은 것은 아니다.\n",
        "- 직접적으로 시험 데이터를 사용하기 보다는 검증 데이터를 사용한다. 시험 데이터는 오직 평가에만 사용한다."
      ],
      "metadata": {
        "id": "uij_htS1YfBl"
      }
    },
    {
      "cell_type": "code",
      "source": [
        "import torch\n",
        "import torchvision\n",
        "import torchvision.transforms as transforms\n",
        "from torch.utils.data import DataLoader\n",
        "import torch.nn as nn\n",
        "import torch.nn.functional as F\n",
        "import torch.optim as optim\n",
        "import matplotlib.pyplot as plt"
      ],
      "metadata": {
        "id": "2Gyux1mFYg0l"
      },
      "execution_count": null,
      "outputs": []
    },
    {
      "cell_type": "code",
      "source": [
        "#학습,검증,시험 데이터\n",
        "transform = transforms.Compose([\n",
        "    transforms.ToTensor(),\n",
        "    transforms.Normalize((0.5,0.5,0.5),(0.5,0.5,0.5))\n",
        "])\n",
        "dataset = torchvision.datasets.CIFAR10(root='./data',train=True,\n",
        "                                       download=True,transform=transform)\n",
        "trainset,valset = torch.utils.data.random_split(dataset, [30000,20000])\n",
        "trainloader= torch.utils.data.DataLoader(trainset, batch_size=32, shuffle=True)\n",
        "valloader = torch.utils.data.DataLoader(valset, batch_size=32, shuffle=False)\n",
        "testset = torchvision.datasets.CIFAR10(root='./data', train=False, download=True, transform=transform)\n",
        "testloader = torch.utils.data.DataLoader(testset, batch_size=32,shuffle=False)"
      ],
      "metadata": {
        "colab": {
          "base_uri": "https://localhost:8080/",
          "height": 101,
          "referenced_widgets": [
            "a2a477f167a9416ca79baa11c7a556f7",
            "9abc117f25ce41ebbbf12d5f5b32912c",
            "768993d099db449e8325eeae7596ea82",
            "206c45dc66884980a07c73b227672668",
            "89471261fc904eaa8503da7db12f3621",
            "bae79602696c4259a5b7c5127dc3feb6",
            "e95e85d922704208bdb57ae08ab4eca8",
            "4907b739ec34465b97475449ad8cd86a",
            "8c9dbaf2df32467fa5400c696f3351f1",
            "20be8d867e2b4572be169c7a6519c451",
            "86f8437c7e234910ae14eeb12f01f715"
          ]
        },
        "id": "3BNcKpHGzR1m",
        "outputId": "92ea6d39-624b-474c-c783-7e76beca4196"
      },
      "execution_count": null,
      "outputs": [
        {
          "output_type": "stream",
          "name": "stdout",
          "text": [
            "Downloading https://www.cs.toronto.edu/~kriz/cifar-10-python.tar.gz to ./data/cifar-10-python.tar.gz\n"
          ]
        },
        {
          "output_type": "display_data",
          "data": {
            "text/plain": [
              "  0%|          | 0/170498071 [00:00<?, ?it/s]"
            ],
            "application/vnd.jupyter.widget-view+json": {
              "version_major": 2,
              "version_minor": 0,
              "model_id": "a2a477f167a9416ca79baa11c7a556f7"
            }
          },
          "metadata": {}
        },
        {
          "output_type": "stream",
          "name": "stdout",
          "text": [
            "Extracting ./data/cifar-10-python.tar.gz to ./data\n",
            "Files already downloaded and verified\n"
          ]
        }
      ]
    },
    {
      "cell_type": "code",
      "source": [
        "device = torch.device('cuda:0' if torch.cuda.is_available() else 'cpu')\n",
        "print(f'{device} is available.')"
      ],
      "metadata": {
        "colab": {
          "base_uri": "https://localhost:8080/"
        },
        "id": "KwNR-Vtr0Ek7",
        "outputId": "aca81ca3-c741-4fb1-b704-f39c11701013"
      },
      "execution_count": null,
      "outputs": [
        {
          "output_type": "stream",
          "name": "stdout",
          "text": [
            "cuda:0 is available.\n"
          ]
        }
      ]
    },
    {
      "cell_type": "code",
      "source": [
        "#ResNet 정의\n",
        "class ResidualBlock(nn.Module):\n",
        "  def __init__(self, in_channels, out_channels, stride=1):\n",
        "    super(ResidualBlock, self).__init__()\n",
        "    self.stride = stride\n",
        "    self.in_channels = in_channels\n",
        "    self.out_channels = out_channels\n",
        "    self.conv_block = nn.Sequential(\n",
        "        nn.Conv2d(self.in_channels,self.out_channels, kernel_size=3, stride=stride,padding=1,bias=False),\n",
        "        nn.BatchNorm2d(self.out_channels),nn.ReLU(),\n",
        "        nn.Conv2d(self.out_channels, self.out_channels, kernel_size=3, stride=1, padding=1, bias=False),\n",
        "        nn.BatchNorm2d(self.out_channels))\n",
        "    if self.stride != 1 or self.in_channels != self.out_channels:\n",
        "      self.downsample = nn.Sequential(\n",
        "          nn.Conv2d(self.in_channels, self.out_channels, kernel_size=1, stride=stride, bias=False),\n",
        "          nn.BatchNorm2d(self.out_channels)\n",
        "      )\n",
        "  \n",
        "  def forward(self,x):\n",
        "    out = self.conv_block(x)\n",
        "    if self.stride != 1 or self.in_channels != self.out_channels:\n",
        "      x = self.downsample(x)\n",
        "    out = F.relu(x+out)\n",
        "    return out\n",
        "\n",
        "class ResNet(nn.Module):\n",
        "  def __init__(self, num_blocks, num_classes=10):\n",
        "    super(ResNet, self).__init__()\n",
        "    self.in_channels = 64\n",
        "    self.base = nn.Sequential(\n",
        "        nn.Conv2d(3,64,kernel_size=3, stride=1, padding=1, bias=False),\n",
        "        nn.BatchNorm2d(64),\n",
        "        nn.ReLU()\n",
        "    )\n",
        "    self.layer1 = self._make_layer(64,num_blocks[0],stride=1)\n",
        "    self.layer2 = self._make_layer(128, num_blocks[1],stride=2)\n",
        "    self.layer3 = self._make_layer(256, num_blocks[2],stride=2)\n",
        "    self.layer4 = self._make_layer(512, num_blocks[3],stride=2)\n",
        "    self.gap = nn.AvgPool2d(4)\n",
        "    self.fc = nn.Linear(512, num_classes)\n",
        "  \n",
        "  def _make_layer(self, out_channels, num_blocks, stride):\n",
        "    strides = [stride] + [1]*(num_blocks-1)\n",
        "    layers = []\n",
        "    for stride in strides:\n",
        "      block = ResidualBlock(self.in_channels, out_channels, stride)\n",
        "      layers.append(block)\n",
        "      self.in_channels = out_channels\n",
        "    return nn.Sequential(*layers)\n",
        "\n",
        "  def forward(self,x):\n",
        "    out = self.base(x)\n",
        "    out = self.layer1(out)\n",
        "    out = self.layer2(out)\n",
        "    out = self.layer3(out)\n",
        "    out = self.layer4(out)\n",
        "    out = self.gap(out)\n",
        "    out = out.view(out.size(0),-1)\n",
        "    out = self.fc(out)\n",
        "    return out\n",
        "\n",
        "def modeltype(model):\n",
        "  if model=='resnet18':\n",
        "    return ResNet([2,2,2,2])\n",
        "  elif model == 'resnet34':\n",
        "    return ResNet([3,4,6,3])\n",
        "\n",
        "resnet = modeltype('resnet18').to(device)"
      ],
      "metadata": {
        "id": "c4eJ9lZW0XiB"
      },
      "execution_count": null,
      "outputs": []
    },
    {
      "cell_type": "code",
      "source": [
        "PATH = './cifar_resnet_early.pth'\n",
        "criterion = nn.CrossEntropyLoss()\n",
        "optimizer = optim.Adam(resnet.parameters(), lr=1e-3)"
      ],
      "metadata": {
        "id": "viLF6Bbsz1KA"
      },
      "execution_count": null,
      "outputs": []
    },
    {
      "cell_type": "code",
      "source": [
        "def validation_loss(dataloader):\n",
        "  n = len(dataloader)\n",
        "  running_loss = 0.0\n",
        "  with torch.no_grad():\n",
        "    resnet.eval()\n",
        "    for data in dataloader:\n",
        "      images, labels, data[0].to(device), data[1].to(device)\n",
        "      outputs = resnet(images)\n",
        "      loss = criterion(outputs, labels)\n",
        "      running_loss += loss.item()\n",
        "\n",
        "  resnet.train()\n",
        "  return running_loss/n"
      ],
      "metadata": {
        "id": "tOoPHA931lHd"
      },
      "execution_count": null,
      "outputs": []
    },
    {
      "cell_type": "code",
      "source": [
        "train_loss_list = []\n",
        "val_loss_list = []\n",
        "n = len(trainloader)\n",
        "early_stopping_loss = 1\n",
        "\n",
        "for epoch in range(10):\n",
        "  running_loss = 0.0\n",
        "  for data in trainloader:\n",
        "    inputs, labels = data[0].to(device), data[1].to(device)\n",
        "    optimizer.zero_grad()\n",
        "    outputs = resnet(inputs)\n",
        "    loss = criterion(outputs, labels)\n",
        "    loss.backward()\n",
        "    optimizer.step()\n",
        "    running_loss += loss.item()\n",
        "\n",
        "  train_loss = running_loss/n\n",
        "  train_loss_list.append(train_loss)\n",
        "  val_loss = validation_loss(valloader)\n",
        "  val_loss_list.append(val_loss)\n",
        "  print('[%d] train loss: %.3f, validation loss: %.3f' %(epoch+1, train_loss, val_loss))\n",
        "\n",
        "  if val_loss < early_stopping_loss:\n",
        "    torch.save(resnet.state_dict(),PATH)\n",
        "    early_stopping_train_loss = train_loss \n",
        "    early_stopping_val_loss = val_loss\n",
        "    eary_stopping_epoch = epoch\n",
        "\n",
        "print('Final pretrained model >> [%d] train loss: %.3f, validation loss: %.3f' %(early_stopping_epoch+1, early_stopping_train_loss, early_stopping_val_loss))"
      ],
      "metadata": {
        "id": "nuOM7Yfp15kP"
      },
      "execution_count": null,
      "outputs": []
    },
    {
      "cell_type": "code",
      "source": [
        "plt.plot(train_loss_list)\n",
        "plt.plot(val_loss_list)\n",
        "plt.legend(['train','validation'])\n",
        "plt.title('Loss')\n",
        "plt.xlabel('epoch')\n",
        "plt.show()"
      ],
      "metadata": {
        "id": "Wa-z1xax2qEZ"
      },
      "execution_count": null,
      "outputs": []
    },
    {
      "cell_type": "markdown",
      "source": [
        "### L2 Regularization\n",
        "- 경계를 만들어 학습 데이터에서의 최적 변수 W*에 도달하지 못하게 하며 경계 안에서만 변수를 최적화하도록 한다.\n",
        "- Adam을 사용할 경우 weight_decay에 L2 패널티 값을 입력하여 L2 정규화를 활성화할 수 있다"
      ],
      "metadata": {
        "id": "HGPFBSRH3kfA"
      }
    },
    {
      "cell_type": "code",
      "source": [
        "optimizer= optim.Adam(resnet.parameters(), lr=1e-3, weight_decay = 1e-3)"
      ],
      "metadata": {
        "id": "x2h6jyqG33dV"
      },
      "execution_count": null,
      "outputs": []
    },
    {
      "cell_type": "markdown",
      "source": [
        "### Dropout\n",
        "- 인공 신경망에서 무작위로 일정한 비율의 노드를 제외하여 학습하는 방법\n",
        "- 출력층은 예측값이 나오는 단계이기 때문에 적용하지 않는다\n",
        "- 학습 시에만 사용되어 과적합을 방지하며, 시험 데이터를 이용하는 등의 평가 단계에서는 적용하지 않는다.(eval()함수 선언)"
      ],
      "metadata": {
        "id": "gDMcM1Cy4Snw"
      }
    },
    {
      "cell_type": "code",
      "source": [
        "class Regressor(nn.Module):\n",
        "  def __init__(self):\n",
        "    super().__init__()\n",
        "    self.fc1 = nn.Linear(13,50)\n",
        "    self.fc2 = nn.Linear(50,1)\n",
        "    self.dropout = nn.Dropout(0.5)\n",
        "\n",
        "  def forward(self,x):\n",
        "    x = self.dropout(F.relu(self.fc1(x)))\n",
        "    x = F.relu(self.fc2(x))\n",
        "    return x \n",
        "\n",
        "# torch.nn.functional.dropout(input, p=0.5, training=True)와 같음"
      ],
      "metadata": {
        "id": "bGWBs4Pc4U54"
      },
      "execution_count": null,
      "outputs": []
    },
    {
      "cell_type": "markdown",
      "source": [
        "### Batch Normalization\n",
        "- 활성화 함수로 들어가기 전에 각 노드로 들어오는 값인 feature 값을 보정된 정규화를 통해서 항상 동일한 분포 위에 있게 한다.\n",
        "- 입력값들의 분포를 일정하게 하여 일반적으로 학습에 대한 수렴 속도가 빠르다.\n",
        "- 배치 단위의 정규화 분포는 전체의 데이터 분포와 다를 수 있기 때문에 과적합을 방지할 수 있다\n",
        "- 효과는 드롭아웃과 유사하며 속도는 더 빠르다"
      ],
      "metadata": {
        "id": "9_EX4-d85UoR"
      }
    },
    {
      "cell_type": "markdown",
      "source": [
        "### DisturbLabel\n",
        "- 분류 문제에서 일정 비율만큼 라벨을 의도적으로 잘못된 라벨로 만들어서 학습을 방해하는 방법\n",
        "- 분류 문제에서의 과적합을 효과적으로 막을 수 있음"
      ],
      "metadata": {
        "id": "UjSko6Ql5x0h"
      }
    },
    {
      "cell_type": "code",
      "source": [
        "class DisturbLabel(torch.nn.Module):\n",
        "  def __init__(self,alpha,num_classes):\n",
        "    super(DisturbLabel, self).__init__()\n",
        "    self.alpha = alpha\n",
        "    self.C = num_classes\n",
        "    self.p_c = (1-((self.C-1)/self.C)*(alpha/100))\n",
        "    self.p_i = (1-self.p_c)/(self.C-1)\n",
        "\n",
        "  def forward(self,y):\n",
        "    y_tensor = y.type(torch.LongTensor).view(-1,1)\n",
        "    depth = self.C\n",
        "    y_one_hot = torch.ones(y_tensor.size()[0], depth)*self.p_i\n",
        "    y_one_hot.scatter_(1,y_tensor, self.p_c)\n",
        "    y_one_hot = y_one_hot.view(*(tuple(y.shape)+(-1,)))\n",
        "    distribution = torch.distributions.OneHotCategorical(y_one_hot)\n",
        "    y_disturbed = distribution.sample()\n",
        "    y_disturbed = y_disturbed.max(dim=1)[1]\n",
        "    return y_disturbed"
      ],
      "metadata": {
        "id": "bC2r-JRh5zVg"
      },
      "execution_count": null,
      "outputs": []
    },
    {
      "cell_type": "code",
      "source": [
        "disturblabels = DisturbLabel(alpha=30,num_classes=10)"
      ],
      "metadata": {
        "id": "NuHYmyHS6NMN"
      },
      "execution_count": null,
      "outputs": []
    },
    {
      "cell_type": "code",
      "source": [
        "for epoch in range(10):\n",
        "  running_loss = 0.0\n",
        "  for data in trainloader:\n",
        "    input,labels = data[0].to(device), data[1].to(device)\n",
        "    optimizer.zero_grad()\n",
        "    outputs = resnet(inputs)\n",
        "    labels = disturblabels(labels).to(device)\n",
        "    loss = criterion(outputs,labels)\n",
        "    #이하 생략"
      ],
      "metadata": {
        "id": "IZ3uZEbR7Vq3"
      },
      "execution_count": null,
      "outputs": []
    },
    {
      "cell_type": "markdown",
      "source": [
        "### DisturbValue (교란 값)\n",
        "- 회귀 문제에서 일정 비율만큼 라벨에 노이즈를 주입하여 학습 데이터에 대해 최적화를 방해하는 방법"
      ],
      "metadata": {
        "id": "yYlvgY_p7tyg"
      }
    },
    {
      "cell_type": "code",
      "source": [
        "def noise_generator(x,alpha):\n",
        "  noise= torch.normal(0,1e-8,size=(len(x),1))\n",
        "  noise[torch.randint(0,len(x), (int(len(x)*(1-alpha))))] = 0\n",
        "  return noise"
      ],
      "metadata": {
        "id": "TS_pxXxF7yDw"
      },
      "execution_count": null,
      "outputs": []
    },
    {
      "cell_type": "code",
      "source": [
        "for epoch in range(10):\n",
        "  for data in trainloader:\n",
        "    inputs,values = data\n",
        "    optimizer.zero_grad()\n",
        "    outputs = model(inputs)\n",
        "    values = values + noise_generator(values, alpha)\n",
        "    loss = criterion(outputs,values)\n",
        "    # 이하 생략"
      ],
      "metadata": {
        "id": "pKxNHgrt8Nhj"
      },
      "execution_count": null,
      "outputs": []
    },
    {
      "cell_type": "markdown",
      "source": [
        "### Label Smoothing\n",
        "- 분류 문제, 원-핫 벡터\n",
        "- 교차 엔트로피 손실 함수를 계산할 때 실제 값을 0과 1이 아닌, 예를 들어 0.1과 0.8로 구성해서 과적합을 방지하는 기술\n",
        "- 다만 Pytorch의 nn.CrossEntropyLoss()는 실제 라벨의 원-핫 벡터를 입력으로 받을 수 없기에, 라벨 스무딩을 적용할 경우 원-핫 벡터를 사용할 수 있도록 별도로 손실 함수를 만들어야 한다"
      ],
      "metadata": {
        "id": "17EDLQ5h8eqx"
      }
    },
    {
      "cell_type": "code",
      "source": [
        "class LabelSmoothingLoss(nn.Module):\n",
        "  def __init__(self, classes, smoothing=0.0, dim=-1):\n",
        "    super(LabelSmoothingLoss, self).__init__()\n",
        "    self.confidence = 1.0 - smoothing\n",
        "    self.smoothing = smoothing\n",
        "    self.cls = classes\n",
        "    self.dim = dim\n",
        "  \n",
        "  def forward(self, pred, target):\n",
        "    pred = pred.log_softmax(dim=self.dim)\n",
        "    with torch.no_grad():\n",
        "      true_dist = torch.zeros_like(pred)\n",
        "      true_dist.fill_(self.smoothing / (self.cls-1))\n",
        "      true_dist.scatter_(1, target.data.unsqueeze(1), self.confidence)\n",
        "    return torch.mean(torch.sum(-true_dist*pred, dim=self.dim)) "
      ],
      "metadata": {
        "id": "YDoo10Wo9JSZ"
      },
      "execution_count": null,
      "outputs": []
    },
    {
      "cell_type": "code",
      "source": [
        "criterion = LabelSmoothingLoss(classes=10,smoothing=0.2)"
      ],
      "metadata": {
        "id": "WkQWOImg91hR"
      },
      "execution_count": null,
      "outputs": []
    },
    {
      "cell_type": "markdown",
      "source": [
        "# Data Imbalance\n",
        "- 특정 클래스에 과적합을 야기할 수 있음"
      ],
      "metadata": {
        "id": "QJDQBd1q-M_A"
      }
    },
    {
      "cell_type": "markdown",
      "source": [
        "### Weighted random sampling (가장 무작위 샘플링)\n",
        "- 배치를 만들 때마다 각 클래스에서 동일한 개수를 뽑으면 한 번 학습 시 균형 데이터를 사용하게 된다"
      ],
      "metadata": {
        "id": "TdWuvzl4-Uma"
      }
    },
    {
      "cell_type": "code",
      "source": [
        "import numpy as np\n",
        "def make_weights(labels, nclasses):\n",
        "  labels = np.array(labels)\n",
        "  weight_list = []\n",
        "  for cls in range(nclasses):\n",
        "    idx = np.where(labels == cls)[0]\n",
        "    count = len(idx)\n",
        "    weight = 1/count\n",
        "    weights = [weight]*count\n",
        "    weight_lis += weights\n",
        "  return weight_list"
      ],
      "metadata": {
        "id": "jrnOKMXh-R-w"
      },
      "execution_count": null,
      "outputs": []
    },
    {
      "cell_type": "code",
      "source": [
        "import torchvision.transforms as tr\n",
        "transf = tr.Compose([tr.Resize((16,16)),tr.ToTensor()])\n",
        "trainset = torchvision.datasets.ImageFolder(root='./class',transform=transf)"
      ],
      "metadata": {
        "id": "QNALRLdMDRrz"
      },
      "execution_count": null,
      "outputs": []
    },
    {
      "cell_type": "code",
      "source": [
        "weights = make_weights(trainset, targets, len(trainset.classes))\n",
        "weights = torch.DoubleTensor(weights)\n",
        "\n",
        "sampler = torch.utils.sampler.WeightedRandomSampler(weights, len(weights))\n",
        "trainloader_wrs = DataLoader(trainset, batch_size =6, sampler=sampler)\n",
        "trainloader_rs = DataLoader(trainset, batch_size=6,shuffle+true)"
      ],
      "metadata": {
        "id": "AflC68RMDqjN"
      },
      "execution_count": null,
      "outputs": []
    },
    {
      "cell_type": "markdown",
      "source": [
        "### Weighted Loss function\n",
        "- nn.CrossEntropyLoss는 가중 손실 함수를 저공한다"
      ],
      "metadata": {
        "id": "vEh4vZ3YEnxX"
      }
    },
    {
      "cell_type": "code",
      "source": [
        "device = torch.device('cuda:0' if torch.cuda.is_available() else 'cpu')\n",
        "num_ins = [40,45,30,62,70,153,395,46,75,194]\n",
        "weights = [1-(x/sum(num_ins)) for x in num_ins]\n",
        "class_weights = torch.FloatTensor(weights).to(device)\n",
        "criterion = nn.CrossEntropyLoss(weight=class_weights)"
      ],
      "metadata": {
        "id": "oqdtgDKFEtEC"
      },
      "execution_count": null,
      "outputs": []
    },
    {
      "cell_type": "markdown",
      "source": [
        "### Confusion Matrix\n",
        "- 각 클래스의 분포와 정확도를 행렬로 표현해줌"
      ],
      "metadata": {
        "id": "pJKcf98wFEPz"
      }
    },
    {
      "cell_type": "code",
      "source": [
        "from sklearn.metrics import confusion_matrix\n",
        "import seaborn as sns\n",
        "from matplotlib import pyplot as plt\n",
        "actual = [1,1,1,0,0,0,0,2,2,2,2,2,2,2,2]\n",
        "prediction = [1,2,2,0,2,2,1,2,0,1,0,2,2,2,2]\n",
        "c_mat = confusion_matrix(actual, prediction)\n",
        "plt.figure(figsize=(8,6))\n",
        "sns.heatmap(c_mat, annot=True, fmt='d', cmap='Blues', linewidths = .5)\n",
        "b,t = plt.ylim()\n",
        "b += 0.5\n",
        "t -= 0.5\n",
        "plt.ylim(b,t)\n",
        "plt.show()"
      ],
      "metadata": {
        "colab": {
          "base_uri": "https://localhost:8080/",
          "height": 378
        },
        "id": "d3hH5cgGE_9x",
        "outputId": "4ba42bbd-7ea9-4f42-fcc3-2ba9d530e85c"
      },
      "execution_count": null,
      "outputs": [
        {
          "output_type": "display_data",
          "data": {
            "text/plain": [
              "<Figure size 576x432 with 2 Axes>"
            ],
            "image/png": "[encoded data removed]"
          },
          "metadata": {
            "needs_background": "light"
          }
        }
      ]
    },
    {
      "cell_type": "markdown",
      "source": [
        "# Transfer Learning (전이 학습)\n",
        "- 기존의 지식을 우리가 풀고자 하는 문제에 적용하여 학습하는 방법\n",
        "- 다른 데이터를 가지고 오거나 다른 업무에서 학습된 모델을 적용하는 것 등등"
      ],
      "metadata": {
        "id": "8L4Z3OZjF70m"
      }
    },
    {
      "cell_type": "markdown",
      "source": [
        "### Pretrained model\n",
        "- ImageNet 데이터 학습 모델들 사용\n",
        "- torchvision.models as models"
      ],
      "metadata": {
        "id": "DanwpO5dGJT-"
      }
    },
    {
      "cell_type": "code",
      "source": [
        "import torchvision.models as models\n",
        "alexnet = models.alexnet().to(device)\n",
        "resnet18 = models.resnet18().to(device)\n",
        "vgg16 = models.vgg16().to(device)\n",
        "densenet = models.densenet161().to(device)\n",
        "inception = models.inception_v3().to(device)\n",
        "googlenet = models.googlenet().to(device)\n",
        "shufflenet = models.shufflenet_v2_x1_0().to(device)\n",
        "mobilenet_v2 = models.mobilenet_v2().to(device)\n",
        "resnext50_32x4d = models.resnext50_32x4d().to(device)\n",
        "wide_resnet50_2 = models.wide_resnet50_2().to(device)\n",
        "mnasnet = models.mnasnet1_0().to(device)"
      ],
      "metadata": {
        "id": "FhYN0jpHGNf_"
      },
      "execution_count": null,
      "outputs": []
    },
    {
      "cell_type": "code",
      "source": [
        "model = torchvision.models.resnet18(pretrained=True)\n",
        "model.conv1 = nn.Conv2d(3,64,kernel_size=3,stride=1,padding=1)\n",
        "num_ftrs = model.fc.in_features\n",
        "model.fc = nn.Linear(num_ftrs, 10)\n",
        "model = model.to(device)"
      ],
      "metadata": {
        "colab": {
          "base_uri": "https://localhost:8080/",
          "height": 156,
          "referenced_widgets": [
            "411619d3d1ae4a3e825e4df59e32447f",
            "ee96fda232e14c108e4598f2421c380b",
            "cad3ed00d2944eb9807a945afb731f15",
            "3c5881506c2843868439b42f6b1c15aa",
            "e74a69eb061443ffbb69c25956a74e1f",
            "523260cc3ea44e14941b87845a38a88c",
            "49ba72ad1feb4f29aea3a2a55e39cddb",
            "1481b1bf7c4d4dfdbd375c15c0250eb8",
            "0acbd7ed9d0f44df927a5e3d1f4603a4",
            "a2d462c1af7a46c386a0c6345b03ea4d",
            "05b404f467fa4302ad818e94f38b8366"
          ]
        },
        "id": "nXrtmUbTHGlB",
        "outputId": "4df1fbec-aadc-4767-82ca-caf025b56410"
      },
      "execution_count": null,
      "outputs": [
        {
          "output_type": "stream",
          "name": "stderr",
          "text": [
            "/usr/local/lib/python3.7/dist-packages/torchvision/models/_utils.py:209: UserWarning: The parameter 'pretrained' is deprecated since 0.13 and will be removed in 0.15, please use 'weights' instead.\n",
            "  f\"The parameter '{pretrained_param}' is deprecated since 0.13 and will be removed in 0.15, \"\n",
            "/usr/local/lib/python3.7/dist-packages/torchvision/models/_utils.py:223: UserWarning: Arguments other than a weight enum or `None` for 'weights' are deprecated since 0.13 and will be removed in 0.15. The current behavior is equivalent to passing `weights=ResNet18_Weights.IMAGENET1K_V1`. You can also use `weights=ResNet18_Weights.DEFAULT` to get the most up-to-date weights.\n",
            "  warnings.warn(msg)\n",
            "Downloading: \"https://download.pytorch.org/models/resnet18-f37072fd.pth\" to /root/.cache/torch/hub/checkpoints/resnet18-f37072fd.pth\n"
          ]
        },
        {
          "output_type": "display_data",
          "data": {
            "text/plain": [
              "  0%|          | 0.00/44.7M [00:00<?, ?B/s]"
            ],
            "application/vnd.jupyter.widget-view+json": {
              "version_major": 2,
              "version_minor": 0,
              "model_id": "411619d3d1ae4a3e825e4df59e32447f"
            }
          },
          "metadata": {}
        }
      ]
    },
    {
      "cell_type": "markdown",
      "source": [
        "### Model freezing\n",
        "- 기존의 일부 모델 변수들을 그대로 사용하기 위해 업데이트가 되지 않도록 하는 방법\n",
        "- 사전 학습된 변수를 그대로 유지할 수 있어 학습 속도와 정확도를 향상시킬 수 있고, 다른 모델과 붙여 다른 구조 만들 수 있음\n",
        "- CNN에서는 피쳐 추출 부분은 프리징을 시키고 분류 파트만 학습을 진행하기도 함."
      ],
      "metadata": {
        "id": "__1ci70xHmD7"
      }
    },
    {
      "cell_type": "code",
      "source": [
        "model = torchvision.models.alexnet(pretrained=True)\n",
        "num_ftrs = model.classifier[6].in_features\n",
        "model.classifier[6] = nn.Linear(num_ftrs,10)\n",
        "model = model.to(device)"
      ],
      "metadata": {
        "colab": {
          "base_uri": "https://localhost:8080/",
          "height": 121,
          "referenced_widgets": [
            "cbb5a670128a4a8c80f28ae1a63bf0af",
            "ae997c2723c64d559d3d23fcbc44d3b1",
            "96e2357782bd4dcfb22ce5286e47ad6b",
            "0ac4772bb6644db3b01de706805ade4f",
            "33532aade06c430a9a402aa043fda6f1",
            "f991c92380f94e608937093182ad6e6e",
            "7cfc234965b54af4b91fd26992e65d5a",
            "15c7f96063d64f98b32cd88b80302515",
            "02479deb28724f51aaf3c1321d6b5570",
            "1eaf259cd45046669600a7d1618a0c97",
            "1a355a810a724b67b5cc75d13979ada6"
          ]
        },
        "id": "SpUMyo86HbgP",
        "outputId": "1aa5d0d0-ee76-43bd-8525-4767e0a30623"
      },
      "execution_count": null,
      "outputs": [
        {
          "output_type": "stream",
          "name": "stderr",
          "text": [
            "/usr/local/lib/python3.7/dist-packages/torchvision/models/_utils.py:223: UserWarning: Arguments other than a weight enum or `None` for 'weights' are deprecated since 0.13 and will be removed in 0.15. The current behavior is equivalent to passing `weights=AlexNet_Weights.IMAGENET1K_V1`. You can also use `weights=AlexNet_Weights.DEFAULT` to get the most up-to-date weights.\n",
            "  warnings.warn(msg)\n",
            "Downloading: \"https://download.pytorch.org/models/alexnet-owt-7be5be79.pth\" to /root/.cache/torch/hub/checkpoints/alexnet-owt-7be5be79.pth\n"
          ]
        },
        {
          "output_type": "display_data",
          "data": {
            "text/plain": [
              "  0%|          | 0.00/233M [00:00<?, ?B/s]"
            ],
            "application/vnd.jupyter.widget-view+json": {
              "version_major": 2,
              "version_minor": 0,
              "model_id": "cbb5a670128a4a8c80f28ae1a63bf0af"
            }
          },
          "metadata": {}
        }
      ]
    },
    {
      "cell_type": "code",
      "source": [
        "# 모델 파라미터명 확인\n",
        "for i,(name,param) in enumerate(model.named_parameters()):\n",
        "  print(i,name)"
      ],
      "metadata": {
        "colab": {
          "base_uri": "https://localhost:8080/"
        },
        "id": "lJYJoKCyH-1-",
        "outputId": "2326b6e3-e956-4e86-e2f0-c21c0925efad"
      },
      "execution_count": null,
      "outputs": [
        {
          "output_type": "stream",
          "name": "stdout",
          "text": [
            "0 features.0.weight\n",
            "1 features.0.bias\n",
            "2 features.3.weight\n",
            "3 features.3.bias\n",
            "4 features.6.weight\n",
            "5 features.6.bias\n",
            "6 features.8.weight\n",
            "7 features.8.bias\n",
            "8 features.10.weight\n",
            "9 features.10.bias\n",
            "10 classifier.1.weight\n",
            "11 classifier.1.bias\n",
            "12 classifier.4.weight\n",
            "13 classifier.4.bias\n",
            "14 classifier.6.weight\n",
            "15 classifier.6.bias\n"
          ]
        }
      ]
    },
    {
      "cell_type": "code",
      "source": [
        "# 변수 프리징\n",
        "for i,(name,param) in enumerate(model.named_parameters()):\n",
        "  param.requires_grad = False\n",
        "  if i == 9:\n",
        "    print('end')\n",
        "    break"
      ],
      "metadata": {
        "colab": {
          "base_uri": "https://localhost:8080/"
        },
        "id": "a6Qp1JEBIFR_",
        "outputId": "8584bd71-d7f2-49b2-9d14-39d506808a36"
      },
      "execution_count": null,
      "outputs": [
        {
          "output_type": "stream",
          "name": "stdout",
          "text": [
            "end\n"
          ]
        }
      ]
    },
    {
      "cell_type": "code",
      "source": [
        "# Requires_grad 확인\n",
        "f_list = [0,3,6,8,10]\n",
        "c_list = [1,4,6]\n",
        "for i in f_list:\n",
        "  print(model.features[i].weight.requires_grad)\n",
        "  print(model.features[i].bias.requires_grad)\n",
        "for j in c_list:\n",
        "  print(model.classifier[j].weight.requires_grad)\n",
        "  print(model.classifier[j].bias.requires_grad)"
      ],
      "metadata": {
        "colab": {
          "base_uri": "https://localhost:8080/"
        },
        "id": "LnDllH9RIXqH",
        "outputId": "49613771-0a76-4ba6-c580-00235f1b9cdb"
      },
      "execution_count": null,
      "outputs": [
        {
          "output_type": "stream",
          "name": "stdout",
          "text": [
            "False\n",
            "False\n",
            "False\n",
            "False\n",
            "False\n",
            "False\n",
            "False\n",
            "False\n",
            "False\n",
            "False\n",
            "True\n",
            "True\n",
            "True\n",
            "True\n",
            "True\n",
            "True\n"
          ]
        }
      ]
    },
    {
      "cell_type": "markdown",
      "source": [
        "# Semi-supervised learning (준지도 학습)\n",
        "- 정답이 있는 데이터와 정답이 없는 데이터를 함께 사용하여 모델을 학습"
      ],
      "metadata": {
        "id": "F5biOwlYI7Ch"
      }
    },
    {
      "cell_type": "markdown",
      "source": [
        "### Pseudo Labeling (의사 라벨링)\n",
        "- 준지도 학습 중 가장 기본적으로 사용되는 방법\n",
        "- 이미 학습된 모델을 이용하여 라벨링이 되지 않은 데이터를 예측한 후, 그 예측값을 기준으로 라벨링을 하여 기존의 학습 데이터와 함께 학습에 사용하는 방법"
      ],
      "metadata": {
        "id": "iknZpMOcJDGP"
      }
    },
    {
      "cell_type": "code",
      "source": [
        "import torch\n",
        "import torchvision\n",
        "import torchvision.transforms as transforms\n",
        "from torch.utils.data import DataLoader, Dataset\n",
        "import numpy as np\n",
        "import torch.nn as nn\n",
        "import torch.optim as optim\n",
        "from tqdm import tqdm"
      ],
      "metadata": {
        "id": "5CmOGkiLJSSy"
      },
      "execution_count": 3,
      "outputs": []
    },
    {
      "cell_type": "markdown",
      "source": [
        "*tqdm : for문의 진행 상황을 알려주는 라이브러리"
      ],
      "metadata": {
        "id": "GCI_UEtBJiBy"
      }
    },
    {
      "cell_type": "code",
      "source": [
        "device = torch.device('cuda:0' if torch.cuda.is_available() else 'cpu')\n",
        "print(device)"
      ],
      "metadata": {
        "colab": {
          "base_uri": "https://localhost:8080/"
        },
        "id": "O2dLbPHVJdqL",
        "outputId": "6ae14d3b-dfc2-4908-8162-9329a10b700a"
      },
      "execution_count": 4,
      "outputs": [
        {
          "output_type": "stream",
          "name": "stdout",
          "text": [
            "cuda:0\n"
          ]
        }
      ]
    },
    {
      "cell_type": "code",
      "source": [
        "# 데이터세트 정의\n",
        "class MyDataset(Dataset):\n",
        "  def __init__(self, x_data, y_data, transform=None):\n",
        "    self.x_data = x_data\n",
        "    self.y_data = y_data\n",
        "    self.transform = transform\n",
        "    self.len = len(y_data)\n",
        "\n",
        "  def __getitem__(self, index):\n",
        "    sample = self.x_data[index], self.y_data[index]\n",
        "    if self.transform:\n",
        "      sample = self.transform(sample)\n",
        "    return sample\n",
        "\n",
        "  def __len__(self):\n",
        "    return self.len"
      ],
      "metadata": {
        "id": "7bfEI2dxJqy5"
      },
      "execution_count": 14,
      "outputs": []
    },
    {
      "cell_type": "code",
      "source": [
        "# 데이터 전처리 정의\n",
        "class TrainTransform:\n",
        "  def __call__(self,sample):\n",
        "    inputs, labels = sample\n",
        "    transf = transforms.Compose([transforms.ToPILImage(),\n",
        "                                 transforms.RandomHorizontalFlip(),transforms.ToTensor()])\n",
        "    final_output = transf(inputs)\n",
        "    return final_output, labels"
      ],
      "metadata": {
        "id": "9zZytCh7KAUj"
      },
      "execution_count": 15,
      "outputs": []
    },
    {
      "cell_type": "code",
      "source": [
        "# 데이터 세트 나누기\n",
        "def balanced_subset(data, labels, num_cls, num_data):\n",
        "  num_data_per_class = num_data // num_cls\n",
        "  data1 = torch.tensor([],dtype=torch.float)\n",
        "  data2 = torch.tensor([],dtype=torch.float)\n",
        "  labels1 = torch.tensor([],dtype=torch.long)\n",
        "  labels2 = torch.tensor([],dtype=torch.long)\n",
        "  for cls in range(num_cls):\n",
        "    idx = np.where(labels.numpy()==cls)[0]\n",
        "    shuffled_idx = np.random.choice(len(idx),len(idx),replace=False)\n",
        "    data1 = torch.cat([data1,data[shuffled_idx[:num_data_per_class]]],dim=0)\n",
        "    data2 = torch.cat([data2, data[shuffled_idx[num_data_per_class:]]], dim=0)\n",
        "    labels1 = torch.cat([labels1, labels[shuffled_idx[:num_data_per_class]]],dim=0)\n",
        "    labels2 = torch.cat([labels2, labels[shuffled_idx[num_data_per_class:]]],dim=0)\n",
        "\n",
        "  return data1,data2,labels1, labels2"
      ],
      "metadata": {
        "id": "drHDV7m_KpGH"
      },
      "execution_count": 16,
      "outputs": []
    },
    {
      "cell_type": "code",
      "source": [
        "trainset = torchvision.datasets.MNIST(root='./data',train=True, download=True)\n",
        "labeled_data, unlabeled_data, labels, unlabels = balanced_subset(trainset.data, trainset.targets, num_cls=10, num_data=2000)\n",
        "train_images,val_images,train_labels,val_labels = balanced_subset(labeled_data, labels, num_cls=10, num_data=1000)"
      ],
      "metadata": {
        "id": "YbM5tw2MFNFh"
      },
      "execution_count": 17,
      "outputs": []
    },
    {
      "cell_type": "code",
      "source": [
        "train_images = train_images.unsqueeze(1)\n",
        "val_images = val_images.unsqueeze(1)\n",
        "trainset = MyDataset(train_images, train_labels, transform=TrainTransform())\n",
        "trainloader= torch.utils.data.DataLoader(trainset, batch_size=128, shuffle=True)\n",
        "validationset = MyDataset(val_images, val_labels)\n",
        "valloader = torch.utils.data.DataLoader(validationset, batch_size=128, shuffle=False)\n",
        "unlabeled_images= unlabeled_data.unsqueeze(1)\n",
        "unlabeledset = MyDataset(unlabeled_images, unlabels)\n",
        "unlabelloader= torch.utils.data.DataLoader(unlabeledset, batch_size=256, shuffle=True)"
      ],
      "metadata": {
        "id": "7rqnlc1QFmcn"
      },
      "execution_count": 18,
      "outputs": []
    },
    {
      "cell_type": "code",
      "source": [
        "transform = transforms.Compose([transforms.ToTensor()])\n",
        "testset = torchvision.datasets.MNIST(root='./data',train=False,download=True, transform=transform)\n",
        "testloadr = torch.utils.data.DataLoader(testset, batch_size= 100, shuffle=False)"
      ],
      "metadata": {
        "id": "YzLSGA-7GRv6"
      },
      "execution_count": 19,
      "outputs": []
    },
    {
      "cell_type": "code",
      "source": [
        "# 모델 정의\n",
        "class Net(nn.Module):\n",
        "  def __init__(self):\n",
        "    super(Net,self).__init__()\n",
        "    self.features = nn.Sequential(\n",
        "        nn.Conv2d(1,64,3),nn.ReLU(),\n",
        "        nn.MaxPool2d(2,2),\n",
        "        nn.Conv2d(64,192,3,padding=1), nn.ReLU(),\n",
        "        nn.MaxPool2d(2,2)\n",
        "    )\n",
        "    self.classifier = nn.Sequential(\n",
        "        nn.Dropout(0.5),\n",
        "        nn.Linear(192*6*6,1024),nn.ReLU(),\n",
        "        nn.Dropout(0.5),\n",
        "        nn.Linear(1024,512), nn.ReLU(),\n",
        "        nn.Linear(512,10)\n",
        "    )\n",
        "  \n",
        "  def forward(self,x):\n",
        "    x = self.features(x)\n",
        "    x = x.view(-1,192*6*6)\n",
        "    x = self.classifier(x)\n",
        "    return x\n",
        "\n",
        "model = Net().to(device)"
      ],
      "metadata": {
        "id": "FD48pqLJG0MB"
      },
      "execution_count": 20,
      "outputs": []
    },
    {
      "cell_type": "code",
      "source": [
        "# 손실 함수 및 최적화 기법 정의\n",
        "criterion = nn.CrossEntropyLoss()\n",
        "optimizer = optim.Adam(model.parameters(),lr=1e-3)"
      ],
      "metadata": {
        "id": "NK2vzl6_Hc_O"
      },
      "execution_count": 21,
      "outputs": []
    },
    {
      "cell_type": "code",
      "source": [
        "# 정확도 평가 함수 정의\n",
        "def accuracy(dataloader):\n",
        "  correct = 0\n",
        "  total = 0\n",
        "  with torch.no_grad():\n",
        "    model.eval()\n",
        "    for data in dataloader:\n",
        "      images, labels = data[0].to(device), data[1].to(device)\n",
        "      outputs= model(images)\n",
        "      _, predicted = torch.max(outputs,data,1)\n",
        "      total += labels.size(0)\n",
        "      correct += (predicted==labels).sum().item()\n",
        "\n",
        "  acc = 100*correct/total\n",
        "  model.train()\n",
        "  return acc"
      ],
      "metadata": {
        "id": "QE6T4A1jHk56"
      },
      "execution_count": 22,
      "outputs": []
    },
    {
      "cell_type": "code",
      "source": [
        "# 지도 학습 수행\n",
        "best_acc = 0\n",
        "for epoch in range(10):\n",
        "  correct = 0\n",
        "  total = 0\n",
        "  for traindata in trainloader:\n",
        "    inputs, labels = traindata[0].to(device), traindata[1].to(device)\n",
        "    optimizer.zero_grad()\n",
        "    outputs = model(inputs)\n",
        "    loss = criterion(outputs, labels)\n",
        "    loss.backward()\n",
        "    optimizer.step()\n",
        "    _, predicted = torch.max(outputs.detach(),1)\n",
        "    total += labels.size(0)\n",
        "    correct += (predicted == labels).sum().item()\n",
        "    \n",
        "  val_acc = accuracy(valloader)\n",
        "  \n",
        "  if val_acc >= best_acc:\n",
        "    best_acc = val_acc\n",
        "    torch.save(model.state_dict(), './models/cifar_model_for_pseudo_baseline.pth')\n",
        "    print('[%d] train acc: %.2f, validation acc: %.2f - Saved the best model' %(epoch,100*correct/total,val_acc))\n",
        "  elif epoch%10 == 0:\n",
        "    print('[%d] train acc: %.2f, validation acc: %.2f' % (epoch, 100*correct/total,val_acc))"
      ],
      "metadata": {
        "id": "ctKzhJ0uH6WU"
      },
      "execution_count": null,
      "outputs": []
    },
    {
      "cell_type": "code",
      "source": [
        "# 지도 학습 성능 평가\n",
        "model.load_state_dict(torch.load('./models/cifar_model_for_pseudo_baseline.pth'))\n",
        "accuracy(testloader)"
      ],
      "metadata": {
        "id": "pCEEIXv3JAFc"
      },
      "execution_count": null,
      "outputs": []
    }
  ]
}